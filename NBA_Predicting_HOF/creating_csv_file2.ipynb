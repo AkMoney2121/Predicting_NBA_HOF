{
 "cells": [
  {
   "cell_type": "code",
   "execution_count": null,
   "id": "82019e95-a591-44c2-9476-7ddf1d15e20e",
   "metadata": {},
   "outputs": [],
   "source": [
    "from nba_api.stats.endpoints import playercareerstats\n",
    "from nba_api.stats.static import players\n",
    "from nba_api.stats.endpoints import playerawards\n",
    "\n",
    "import pandas as pd\n",
    "import numpy as np"
   ]
  },
  {
   "cell_type": "markdown",
   "id": "c65680bd-a4d1-45a8-845d-fca341b410bb",
   "metadata": {},
   "source": [
    "## Creating Dataframe Containing Player Awards for All NBA Players"
   ]
  },
  {
   "cell_type": "code",
   "execution_count": null,
   "id": "7d0e854b-0504-44d0-a6f6-dc2c4ff47648",
   "metadata": {},
   "outputs": [],
   "source": [
    "### Getting all NBA Players\n",
    "nba_players = players.get_players()"
   ]
  }
 ],
 "metadata": {
  "kernelspec": {
   "display_name": "Python 3 (ipykernel)",
   "language": "python",
   "name": "python3"
  },
  "language_info": {
   "codemirror_mode": {
    "name": "ipython",
    "version": 3
   },
   "file_extension": ".py",
   "mimetype": "text/x-python",
   "name": "python",
   "nbconvert_exporter": "python",
   "pygments_lexer": "ipython3",
   "version": "3.8.20"
  }
 },
 "nbformat": 4,
 "nbformat_minor": 5
}
