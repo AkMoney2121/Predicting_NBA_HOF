{
 "cells": [
  {
   "cell_type": "markdown",
   "id": "7df0a016-27a3-4039-9c17-d0738d3131b2",
   "metadata": {},
   "source": [
    "# Loading Data From nba_api And Creating a CSV File With The Data"
   ]
  },
  {
   "cell_type": "code",
   "execution_count": null,
   "id": "5dee058f-c13a-4517-a3b1-b5ffa9a6574f",
   "metadata": {},
   "outputs": [],
   "source": [
    "from nba_api.stats.endpoints import playercareerstats\n",
    "from nba_api.stats.static import players\n",
    "import pandas as pd\n",
    "import concurrent.futures\n",
    "import numpy as np"
   ]
  },
  {
   "cell_type": "code",
   "execution_count": null,
   "id": "d95f6c53-069b-4b8d-9326-2239f6f89ef3",
   "metadata": {},
   "outputs": [],
   "source": [
    "### Importing Player Names/IDs. List of dictionaries\n",
    "data = players.get_players()\n",
    "data"
   ]
  },
  {
   "cell_type": "code",
   "execution_count": null,
   "id": "24b326fc-0b74-49bb-bebd-bac3159c49d5",
   "metadata": {},
   "outputs": [],
   "source": [
    "### Creating a list of Player IDs\n",
    "player_ids = [player['id'] for player in data]\n",
    "player_ids"
   ]
  },
  {
   "cell_type": "code",
   "execution_count": null,
   "id": "b815b390-3db2-4700-af92-32570832fdd3",
   "metadata": {},
   "outputs": [],
   "source": [
    "### Fetches Player Career Stats using Player IDs\n",
    "def player_career_stats(player_id):\n",
    "    try:\n",
    "        career = playercareerstats.PlayerCareerStats(player_id = player_id)\n",
    "        return career.get_data_frames()[1]\n",
    "    except Exception as e:\n",
    "        print(f\"Error retrieving stats for player ID {player_id}: {e}\")\n",
    "        return pd.DataFrame()"
   ]
  },
  {
   "cell_type": "code",
   "execution_count": null,
   "id": "6ad0e872-39e3-49a7-ae47-b03db81083d4",
   "metadata": {},
   "outputs": [],
   "source": [
    "with concurrent.futures.ThreadPoolExecutor() as executor:\n",
    "    results = list(executor.map(player_career_stats, player_ids))\n",
    "\n",
    "# Concatenate results\n",
    "career_totals = pd.concat(results, ignore_index=True)"
   ]
  },
  {
   "cell_type": "code",
   "execution_count": null,
   "id": "2362e345-bc5e-4035-97a4-a05a362e9cb3",
   "metadata": {},
   "outputs": [],
   "source": [
    "### Sorting the Data Frame by Player_IDs\n",
    "career_totals = career_totals.sort_values('PLAYER_ID')\n",
    "career_totals"
   ]
  },
  {
   "cell_type": "code",
   "execution_count": null,
   "id": "ef65c654-1cc9-4c23-a798-35d7ff1ce638",
   "metadata": {},
   "outputs": [],
   "source": [
    "### Creating list of Player_IDs and Player_Names\n",
    "player_names = [(player['id'], player['full_name']) for player in data]\n",
    "player_names = pd.DataFrame(player_names, columns=['PLAYER_ID', 'PLAYER_NAME'])\n",
    "player_names"
   ]
  },
  {
   "cell_type": "code",
   "execution_count": null,
   "id": "b62c1d78-183e-4ba2-997a-6b74c85c7f51",
   "metadata": {},
   "outputs": [],
   "source": [
    "### Joining player_names with career_totals to add PLAYER_NAMEs to the Data Frame. Joining on PLAYER_IDs \n",
    "career_totals = pd.merge(career_totals, player_names, on = 'PLAYER_ID', how = 'outer')\n",
    "career_totals"
   ]
  },
  {
   "cell_type": "code",
   "execution_count": null,
   "id": "6c5896e3-206f-4191-99f9-8eb8260db797",
   "metadata": {},
   "outputs": [],
   "source": [
    "### Moving PLAYER_NAME to the second column of the Data Frame to read easier\n",
    "column_to_move = career_totals.pop('PLAYER_NAME')\n",
    "career_totals.insert(1, 'PLAYER_NAME', column_to_move)\n",
    "career_totals"
   ]
  },
  {
   "cell_type": "code",
   "execution_count": null,
   "id": "ef35d0d2-dd94-4671-9bf6-12de2ee50fd7",
   "metadata": {},
   "outputs": [],
   "source": [
    "### Removing unecessary columns\n",
    "career_totals = career_totals.drop('LEAGUE_ID', axis=1)\n",
    "career_totals = career_totals.drop('Team_ID', axis=1)"
   ]
  },
  {
   "cell_type": "code",
   "execution_count": null,
   "id": "9222c786-b630-4f05-bf19-d9e31e5e7120",
   "metadata": {},
   "outputs": [],
   "source": [
    "### Creating CSV File\n",
    "career_totals.to_csv('playercareertotals.csv', index=False)"
   ]
  }
 ],
 "metadata": {
  "kernelspec": {
   "display_name": "Python 3 (ipykernel)",
   "language": "python",
   "name": "python3"
  },
  "language_info": {
   "codemirror_mode": {
    "name": "ipython",
    "version": 3
   },
   "file_extension": ".py",
   "mimetype": "text/x-python",
   "name": "python",
   "nbconvert_exporter": "python",
   "pygments_lexer": "ipython3",
   "version": "3.8.20"
  }
 },
 "nbformat": 4,
 "nbformat_minor": 5
}
